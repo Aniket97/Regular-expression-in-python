{
 "cells": [
  {
   "cell_type": "markdown",
   "id": "64b2eb60",
   "metadata": {},
   "source": [
    "# Learning RE module of Python for pattern matching in strings"
   ]
  },
  {
   "cell_type": "markdown",
   "id": "2b2deaa0",
   "metadata": {},
   "source": [
    "#### Note\n",
    "- This notes is made from the video tutorial by Corey Schafer.\n",
    "- You can watch the [video](https://www.youtube.com/watch?v=K8L6KVGG-7o) along with this notes."
   ]
  },
  {
   "cell_type": "code",
   "execution_count": 1,
   "id": "769a235a",
   "metadata": {},
   "outputs": [],
   "source": [
    "import re"
   ]
  },
  {
   "cell_type": "markdown",
   "id": "cd91be5d",
   "metadata": {},
   "source": [
    "> To give a pattern to the regular expression module 're' we must send the string as raw string like r'This is a string'"
   ]
  },
  {
   "cell_type": "code",
   "execution_count": 2,
   "id": "26fc7534",
   "metadata": {},
   "outputs": [
    {
     "name": "stdout",
     "output_type": "stream",
     "text": [
      "\tTab\n",
      "\\tTab\n"
     ]
    }
   ],
   "source": [
    "print('\\tTab')\n",
    "print(r'\\tTab')"
   ]
  },
  {
   "cell_type": "markdown",
   "id": "b6dbc885",
   "metadata": {},
   "source": [
    ">We will use `re.compile()` function to store the patterns in a variables which will help us to reuse the patterns and we can give meaningful names to a pattern which makes the code more readable."
   ]
  },
  {
   "cell_type": "code",
   "execution_count": 3,
   "id": "b631fb31",
   "metadata": {},
   "outputs": [],
   "source": [
    "# just a dummy text that contains alphabets, numbers, special characters, \n",
    "# email id, phone numbers, Name in specific formats. \n",
    "text_to_search = '''\n",
    "abcdefghijklmnopqurtuvwxyz\n",
    "ABCDEFGHIJKLMNOPQRSTUVWXYZ\n",
    "1234567890\n",
    "Ha HaHa\n",
    "MetaCharacters (Need to be escaped):\n",
    ". ^ $ * + ? { } [ ] \\ | ( )\n",
    "coreyms.com\n",
    "321-555-4321\n",
    "123.555.1234\n",
    "123*555*1234\n",
    "800-555-1234\n",
    "900-555-1234\n",
    "Mr. Schafer\n",
    "Mr Smith\n",
    "Ms Davis\n",
    "Mrs. Robinson\n",
    "Mr. T\n",
    "'''"
   ]
  },
  {
   "cell_type": "code",
   "execution_count": 4,
   "id": "a94518e1",
   "metadata": {},
   "outputs": [
    {
     "name": "stdout",
     "output_type": "stream",
     "text": [
      "<_sre.SRE_Match object; span=(1, 4), match='abc'>\n"
     ]
    }
   ],
   "source": [
    "# lets search 'abc' in the string\n",
    "pattern_abc = re.compile('abc')\n",
    "\n",
    "matches = pattern_abc.finditer(text_to_search)\n",
    "for match in matches:\n",
    "    print(match)"
   ]
  },
  {
   "cell_type": "markdown",
   "id": "84a781dd",
   "metadata": {},
   "source": [
    "> As we can see in the output above `finditer()` function returns span of the matched part in the string and matched part of the string\n",
    "\n",
    "> Span has the indices that can be used in string slicing to get that particular match.\n",
    "\n",
    "> Also **ABC** was not matched here. Hence regex is case-sensitive."
   ]
  },
  {
   "cell_type": "code",
   "execution_count": 5,
   "id": "32475c3c",
   "metadata": {},
   "outputs": [
    {
     "name": "stdout",
     "output_type": "stream",
     "text": [
      "<_sre.SRE_Match object; span=(1, 2), match='a'>\n",
      "<_sre.SRE_Match object; span=(2, 3), match='b'>\n",
      "<_sre.SRE_Match object; span=(3, 4), match='c'>\n",
      "<_sre.SRE_Match object; span=(4, 5), match='d'>\n",
      "<_sre.SRE_Match object; span=(5, 6), match='e'>\n",
      "<_sre.SRE_Match object; span=(6, 7), match='f'>\n",
      "<_sre.SRE_Match object; span=(7, 8), match='g'>\n",
      "<_sre.SRE_Match object; span=(8, 9), match='h'>\n",
      "<_sre.SRE_Match object; span=(9, 10), match='i'>\n",
      "<_sre.SRE_Match object; span=(10, 11), match='j'>\n",
      "<_sre.SRE_Match object; span=(11, 12), match='k'>\n",
      "<_sre.SRE_Match object; span=(12, 13), match='l'>\n",
      "<_sre.SRE_Match object; span=(13, 14), match='m'>\n",
      "<_sre.SRE_Match object; span=(14, 15), match='n'>\n",
      "<_sre.SRE_Match object; span=(15, 16), match='o'>\n",
      "<_sre.SRE_Match object; span=(16, 17), match='p'>\n",
      "<_sre.SRE_Match object; span=(17, 18), match='q'>\n",
      "<_sre.SRE_Match object; span=(18, 19), match='u'>\n",
      "<_sre.SRE_Match object; span=(19, 20), match='r'>\n",
      "<_sre.SRE_Match object; span=(20, 21), match='t'>\n",
      "<_sre.SRE_Match object; span=(21, 22), match='u'>\n",
      "<_sre.SRE_Match object; span=(22, 23), match='v'>\n",
      "<_sre.SRE_Match object; span=(23, 24), match='w'>\n",
      "<_sre.SRE_Match object; span=(24, 25), match='x'>\n",
      "<_sre.SRE_Match object; span=(25, 26), match='y'>\n",
      "<_sre.SRE_Match object; span=(26, 27), match='z'>\n",
      "<_sre.SRE_Match object; span=(28, 29), match='A'>\n",
      "<_sre.SRE_Match object; span=(29, 30), match='B'>\n",
      "<_sre.SRE_Match object; span=(30, 31), match='C'>\n",
      "<_sre.SRE_Match object; span=(31, 32), match='D'>\n",
      "<_sre.SRE_Match object; span=(32, 33), match='E'>\n",
      "<_sre.SRE_Match object; span=(33, 34), match='F'>\n",
      "<_sre.SRE_Match object; span=(34, 35), match='G'>\n",
      "<_sre.SRE_Match object; span=(35, 36), match='H'>\n",
      "<_sre.SRE_Match object; span=(36, 37), match='I'>\n",
      "<_sre.SRE_Match object; span=(37, 38), match='J'>\n",
      "<_sre.SRE_Match object; span=(38, 39), match='K'>\n",
      "<_sre.SRE_Match object; span=(39, 40), match='L'>\n",
      "<_sre.SRE_Match object; span=(40, 41), match='M'>\n",
      "<_sre.SRE_Match object; span=(41, 42), match='N'>\n",
      "<_sre.SRE_Match object; span=(42, 43), match='O'>\n",
      "<_sre.SRE_Match object; span=(43, 44), match='P'>\n",
      "<_sre.SRE_Match object; span=(44, 45), match='Q'>\n",
      "<_sre.SRE_Match object; span=(45, 46), match='R'>\n",
      "<_sre.SRE_Match object; span=(46, 47), match='S'>\n",
      "<_sre.SRE_Match object; span=(47, 48), match='T'>\n",
      "<_sre.SRE_Match object; span=(48, 49), match='U'>\n",
      "<_sre.SRE_Match object; span=(49, 50), match='V'>\n",
      "<_sre.SRE_Match object; span=(50, 51), match='W'>\n",
      "<_sre.SRE_Match object; span=(51, 52), match='X'>\n",
      "<_sre.SRE_Match object; span=(52, 53), match='Y'>\n",
      "<_sre.SRE_Match object; span=(53, 54), match='Z'>\n",
      "<_sre.SRE_Match object; span=(55, 56), match='1'>\n",
      "<_sre.SRE_Match object; span=(56, 57), match='2'>\n",
      "<_sre.SRE_Match object; span=(57, 58), match='3'>\n",
      "<_sre.SRE_Match object; span=(58, 59), match='4'>\n",
      "<_sre.SRE_Match object; span=(59, 60), match='5'>\n",
      "<_sre.SRE_Match object; span=(60, 61), match='6'>\n",
      "<_sre.SRE_Match object; span=(61, 62), match='7'>\n",
      "<_sre.SRE_Match object; span=(62, 63), match='8'>\n",
      "<_sre.SRE_Match object; span=(63, 64), match='9'>\n",
      "<_sre.SRE_Match object; span=(64, 65), match='0'>\n",
      "<_sre.SRE_Match object; span=(66, 67), match='H'>\n",
      "<_sre.SRE_Match object; span=(67, 68), match='a'>\n",
      "<_sre.SRE_Match object; span=(68, 69), match=' '>\n",
      "<_sre.SRE_Match object; span=(69, 70), match='H'>\n",
      "<_sre.SRE_Match object; span=(70, 71), match='a'>\n",
      "<_sre.SRE_Match object; span=(71, 72), match='H'>\n",
      "<_sre.SRE_Match object; span=(72, 73), match='a'>\n",
      "<_sre.SRE_Match object; span=(74, 75), match='M'>\n",
      "<_sre.SRE_Match object; span=(75, 76), match='e'>\n",
      "<_sre.SRE_Match object; span=(76, 77), match='t'>\n",
      "<_sre.SRE_Match object; span=(77, 78), match='a'>\n",
      "<_sre.SRE_Match object; span=(78, 79), match='C'>\n",
      "<_sre.SRE_Match object; span=(79, 80), match='h'>\n",
      "<_sre.SRE_Match object; span=(80, 81), match='a'>\n",
      "<_sre.SRE_Match object; span=(81, 82), match='r'>\n",
      "<_sre.SRE_Match object; span=(82, 83), match='a'>\n",
      "<_sre.SRE_Match object; span=(83, 84), match='c'>\n",
      "<_sre.SRE_Match object; span=(84, 85), match='t'>\n",
      "<_sre.SRE_Match object; span=(85, 86), match='e'>\n",
      "<_sre.SRE_Match object; span=(86, 87), match='r'>\n",
      "<_sre.SRE_Match object; span=(87, 88), match='s'>\n",
      "<_sre.SRE_Match object; span=(88, 89), match=' '>\n",
      "<_sre.SRE_Match object; span=(89, 90), match='('>\n",
      "<_sre.SRE_Match object; span=(90, 91), match='N'>\n",
      "<_sre.SRE_Match object; span=(91, 92), match='e'>\n",
      "<_sre.SRE_Match object; span=(92, 93), match='e'>\n",
      "<_sre.SRE_Match object; span=(93, 94), match='d'>\n",
      "<_sre.SRE_Match object; span=(94, 95), match=' '>\n",
      "<_sre.SRE_Match object; span=(95, 96), match='t'>\n",
      "<_sre.SRE_Match object; span=(96, 97), match='o'>\n",
      "<_sre.SRE_Match object; span=(97, 98), match=' '>\n",
      "<_sre.SRE_Match object; span=(98, 99), match='b'>\n",
      "<_sre.SRE_Match object; span=(99, 100), match='e'>\n",
      "<_sre.SRE_Match object; span=(100, 101), match=' '>\n",
      "<_sre.SRE_Match object; span=(101, 102), match='e'>\n",
      "<_sre.SRE_Match object; span=(102, 103), match='s'>\n",
      "<_sre.SRE_Match object; span=(103, 104), match='c'>\n",
      "<_sre.SRE_Match object; span=(104, 105), match='a'>\n",
      "<_sre.SRE_Match object; span=(105, 106), match='p'>\n",
      "<_sre.SRE_Match object; span=(106, 107), match='e'>\n",
      "<_sre.SRE_Match object; span=(107, 108), match='d'>\n",
      "<_sre.SRE_Match object; span=(108, 109), match=')'>\n",
      "<_sre.SRE_Match object; span=(109, 110), match=':'>\n",
      "<_sre.SRE_Match object; span=(111, 112), match='.'>\n",
      "<_sre.SRE_Match object; span=(112, 113), match=' '>\n",
      "<_sre.SRE_Match object; span=(113, 114), match='^'>\n",
      "<_sre.SRE_Match object; span=(114, 115), match=' '>\n",
      "<_sre.SRE_Match object; span=(115, 116), match='$'>\n",
      "<_sre.SRE_Match object; span=(116, 117), match=' '>\n",
      "<_sre.SRE_Match object; span=(117, 118), match='*'>\n",
      "<_sre.SRE_Match object; span=(118, 119), match=' '>\n",
      "<_sre.SRE_Match object; span=(119, 120), match='+'>\n",
      "<_sre.SRE_Match object; span=(120, 121), match=' '>\n",
      "<_sre.SRE_Match object; span=(121, 122), match='?'>\n",
      "<_sre.SRE_Match object; span=(122, 123), match=' '>\n",
      "<_sre.SRE_Match object; span=(123, 124), match='{'>\n",
      "<_sre.SRE_Match object; span=(124, 125), match=' '>\n",
      "<_sre.SRE_Match object; span=(125, 126), match='}'>\n",
      "<_sre.SRE_Match object; span=(126, 127), match=' '>\n",
      "<_sre.SRE_Match object; span=(127, 128), match='['>\n",
      "<_sre.SRE_Match object; span=(128, 129), match=' '>\n",
      "<_sre.SRE_Match object; span=(129, 130), match=']'>\n",
      "<_sre.SRE_Match object; span=(130, 131), match=' '>\n",
      "<_sre.SRE_Match object; span=(131, 132), match='\\\\'>\n",
      "<_sre.SRE_Match object; span=(132, 133), match=' '>\n",
      "<_sre.SRE_Match object; span=(133, 134), match='|'>\n",
      "<_sre.SRE_Match object; span=(134, 135), match=' '>\n",
      "<_sre.SRE_Match object; span=(135, 136), match='('>\n",
      "<_sre.SRE_Match object; span=(136, 137), match=' '>\n",
      "<_sre.SRE_Match object; span=(137, 138), match=')'>\n",
      "<_sre.SRE_Match object; span=(139, 140), match='c'>\n",
      "<_sre.SRE_Match object; span=(140, 141), match='o'>\n",
      "<_sre.SRE_Match object; span=(141, 142), match='r'>\n",
      "<_sre.SRE_Match object; span=(142, 143), match='e'>\n",
      "<_sre.SRE_Match object; span=(143, 144), match='y'>\n",
      "<_sre.SRE_Match object; span=(144, 145), match='m'>\n",
      "<_sre.SRE_Match object; span=(145, 146), match='s'>\n",
      "<_sre.SRE_Match object; span=(146, 147), match='.'>\n",
      "<_sre.SRE_Match object; span=(147, 148), match='c'>\n",
      "<_sre.SRE_Match object; span=(148, 149), match='o'>\n",
      "<_sre.SRE_Match object; span=(149, 150), match='m'>\n",
      "<_sre.SRE_Match object; span=(151, 152), match='3'>\n",
      "<_sre.SRE_Match object; span=(152, 153), match='2'>\n",
      "<_sre.SRE_Match object; span=(153, 154), match='1'>\n",
      "<_sre.SRE_Match object; span=(154, 155), match='-'>\n",
      "<_sre.SRE_Match object; span=(155, 156), match='5'>\n",
      "<_sre.SRE_Match object; span=(156, 157), match='5'>\n",
      "<_sre.SRE_Match object; span=(157, 158), match='5'>\n",
      "<_sre.SRE_Match object; span=(158, 159), match='-'>\n",
      "<_sre.SRE_Match object; span=(159, 160), match='4'>\n",
      "<_sre.SRE_Match object; span=(160, 161), match='3'>\n",
      "<_sre.SRE_Match object; span=(161, 162), match='2'>\n",
      "<_sre.SRE_Match object; span=(162, 163), match='1'>\n",
      "<_sre.SRE_Match object; span=(164, 165), match='1'>\n",
      "<_sre.SRE_Match object; span=(165, 166), match='2'>\n",
      "<_sre.SRE_Match object; span=(166, 167), match='3'>\n",
      "<_sre.SRE_Match object; span=(167, 168), match='.'>\n",
      "<_sre.SRE_Match object; span=(168, 169), match='5'>\n",
      "<_sre.SRE_Match object; span=(169, 170), match='5'>\n",
      "<_sre.SRE_Match object; span=(170, 171), match='5'>\n",
      "<_sre.SRE_Match object; span=(171, 172), match='.'>\n",
      "<_sre.SRE_Match object; span=(172, 173), match='1'>\n",
      "<_sre.SRE_Match object; span=(173, 174), match='2'>\n",
      "<_sre.SRE_Match object; span=(174, 175), match='3'>\n",
      "<_sre.SRE_Match object; span=(175, 176), match='4'>\n",
      "<_sre.SRE_Match object; span=(177, 178), match='1'>\n",
      "<_sre.SRE_Match object; span=(178, 179), match='2'>\n",
      "<_sre.SRE_Match object; span=(179, 180), match='3'>\n",
      "<_sre.SRE_Match object; span=(180, 181), match='*'>\n",
      "<_sre.SRE_Match object; span=(181, 182), match='5'>\n",
      "<_sre.SRE_Match object; span=(182, 183), match='5'>\n",
      "<_sre.SRE_Match object; span=(183, 184), match='5'>\n",
      "<_sre.SRE_Match object; span=(184, 185), match='*'>\n",
      "<_sre.SRE_Match object; span=(185, 186), match='1'>\n",
      "<_sre.SRE_Match object; span=(186, 187), match='2'>\n",
      "<_sre.SRE_Match object; span=(187, 188), match='3'>\n",
      "<_sre.SRE_Match object; span=(188, 189), match='4'>\n",
      "<_sre.SRE_Match object; span=(190, 191), match='8'>\n",
      "<_sre.SRE_Match object; span=(191, 192), match='0'>\n",
      "<_sre.SRE_Match object; span=(192, 193), match='0'>\n",
      "<_sre.SRE_Match object; span=(193, 194), match='-'>\n",
      "<_sre.SRE_Match object; span=(194, 195), match='5'>\n",
      "<_sre.SRE_Match object; span=(195, 196), match='5'>\n",
      "<_sre.SRE_Match object; span=(196, 197), match='5'>\n",
      "<_sre.SRE_Match object; span=(197, 198), match='-'>\n",
      "<_sre.SRE_Match object; span=(198, 199), match='1'>\n",
      "<_sre.SRE_Match object; span=(199, 200), match='2'>\n",
      "<_sre.SRE_Match object; span=(200, 201), match='3'>\n",
      "<_sre.SRE_Match object; span=(201, 202), match='4'>\n",
      "<_sre.SRE_Match object; span=(203, 204), match='9'>\n",
      "<_sre.SRE_Match object; span=(204, 205), match='0'>\n",
      "<_sre.SRE_Match object; span=(205, 206), match='0'>\n",
      "<_sre.SRE_Match object; span=(206, 207), match='-'>\n",
      "<_sre.SRE_Match object; span=(207, 208), match='5'>\n",
      "<_sre.SRE_Match object; span=(208, 209), match='5'>\n",
      "<_sre.SRE_Match object; span=(209, 210), match='5'>\n",
      "<_sre.SRE_Match object; span=(210, 211), match='-'>\n",
      "<_sre.SRE_Match object; span=(211, 212), match='1'>\n",
      "<_sre.SRE_Match object; span=(212, 213), match='2'>\n",
      "<_sre.SRE_Match object; span=(213, 214), match='3'>\n",
      "<_sre.SRE_Match object; span=(214, 215), match='4'>\n",
      "<_sre.SRE_Match object; span=(216, 217), match='M'>\n",
      "<_sre.SRE_Match object; span=(217, 218), match='r'>\n",
      "<_sre.SRE_Match object; span=(218, 219), match='.'>\n",
      "<_sre.SRE_Match object; span=(219, 220), match=' '>\n",
      "<_sre.SRE_Match object; span=(220, 221), match='S'>\n",
      "<_sre.SRE_Match object; span=(221, 222), match='c'>\n",
      "<_sre.SRE_Match object; span=(222, 223), match='h'>\n",
      "<_sre.SRE_Match object; span=(223, 224), match='a'>\n",
      "<_sre.SRE_Match object; span=(224, 225), match='f'>\n",
      "<_sre.SRE_Match object; span=(225, 226), match='e'>\n",
      "<_sre.SRE_Match object; span=(226, 227), match='r'>\n",
      "<_sre.SRE_Match object; span=(228, 229), match='M'>\n",
      "<_sre.SRE_Match object; span=(229, 230), match='r'>\n",
      "<_sre.SRE_Match object; span=(230, 231), match=' '>\n",
      "<_sre.SRE_Match object; span=(231, 232), match='S'>\n",
      "<_sre.SRE_Match object; span=(232, 233), match='m'>\n",
      "<_sre.SRE_Match object; span=(233, 234), match='i'>\n",
      "<_sre.SRE_Match object; span=(234, 235), match='t'>\n",
      "<_sre.SRE_Match object; span=(235, 236), match='h'>\n",
      "<_sre.SRE_Match object; span=(237, 238), match='M'>\n",
      "<_sre.SRE_Match object; span=(238, 239), match='s'>\n",
      "<_sre.SRE_Match object; span=(239, 240), match=' '>\n",
      "<_sre.SRE_Match object; span=(240, 241), match='D'>\n",
      "<_sre.SRE_Match object; span=(241, 242), match='a'>\n",
      "<_sre.SRE_Match object; span=(242, 243), match='v'>\n",
      "<_sre.SRE_Match object; span=(243, 244), match='i'>\n",
      "<_sre.SRE_Match object; span=(244, 245), match='s'>\n",
      "<_sre.SRE_Match object; span=(246, 247), match='M'>\n",
      "<_sre.SRE_Match object; span=(247, 248), match='r'>\n",
      "<_sre.SRE_Match object; span=(248, 249), match='s'>\n",
      "<_sre.SRE_Match object; span=(249, 250), match='.'>\n",
      "<_sre.SRE_Match object; span=(250, 251), match=' '>\n",
      "<_sre.SRE_Match object; span=(251, 252), match='R'>\n",
      "<_sre.SRE_Match object; span=(252, 253), match='o'>\n",
      "<_sre.SRE_Match object; span=(253, 254), match='b'>\n",
      "<_sre.SRE_Match object; span=(254, 255), match='i'>\n",
      "<_sre.SRE_Match object; span=(255, 256), match='n'>\n",
      "<_sre.SRE_Match object; span=(256, 257), match='s'>\n",
      "<_sre.SRE_Match object; span=(257, 258), match='o'>\n",
      "<_sre.SRE_Match object; span=(258, 259), match='n'>\n",
      "<_sre.SRE_Match object; span=(260, 261), match='M'>\n",
      "<_sre.SRE_Match object; span=(261, 262), match='r'>\n",
      "<_sre.SRE_Match object; span=(262, 263), match='.'>\n",
      "<_sre.SRE_Match object; span=(263, 264), match=' '>\n",
      "<_sre.SRE_Match object; span=(264, 265), match='T'>\n"
     ]
    }
   ],
   "source": [
    "# lets search '.' in the string\n",
    "pattern_dot = re.compile('.')\n",
    "\n",
    "matches = pattern_dot.finditer(text_to_search)\n",
    "for match in matches:\n",
    "    print(match)"
   ]
  },
  {
   "cell_type": "markdown",
   "id": "4f325687",
   "metadata": {},
   "source": [
    "> Here we can see that *all the characters* in the string were matched and not just the *period*.\n",
    "\n",
    "> **Dot** is a special charater in regex and thus we <mark>need to escape</mark> it to use the character literally and not as a special symbol."
   ]
  },
  {
   "cell_type": "code",
   "execution_count": 6,
   "id": "519f9d08",
   "metadata": {},
   "outputs": [
    {
     "name": "stdout",
     "output_type": "stream",
     "text": [
      "<_sre.SRE_Match object; span=(111, 112), match='.'>\n",
      "<_sre.SRE_Match object; span=(146, 147), match='.'>\n",
      "<_sre.SRE_Match object; span=(167, 168), match='.'>\n",
      "<_sre.SRE_Match object; span=(171, 172), match='.'>\n",
      "<_sre.SRE_Match object; span=(218, 219), match='.'>\n",
      "<_sre.SRE_Match object; span=(249, 250), match='.'>\n",
      "<_sre.SRE_Match object; span=(262, 263), match='.'>\n"
     ]
    }
   ],
   "source": [
    "# escaping the character so the regex takes it literally\n",
    "pattern_dot = re.compile('\\.')\n",
    "\n",
    "matches = pattern_dot.finditer(text_to_search)\n",
    "for match in matches:\n",
    "    print(match)"
   ]
  },
  {
   "cell_type": "code",
   "execution_count": 7,
   "id": "dd4b8ed8",
   "metadata": {},
   "outputs": [
    {
     "name": "stdout",
     "output_type": "stream",
     "text": [
      "<_sre.SRE_Match object; span=(139, 150), match='coreyms.com'>\n"
     ]
    }
   ],
   "source": [
    "# lets match the url 'coreyms.com'\n",
    "\n",
    "# here to we need to escape the dot so its taken literally\n",
    "pattern_url = re.compile('coreyms\\.com')\n",
    "\n",
    "matches = pattern_url.finditer(text_to_search)\n",
    "for match in matches:\n",
    "    print(match)"
   ]
  },
  {
   "cell_type": "markdown",
   "id": "52b01e11",
   "metadata": {},
   "source": [
    "### The special characters are:\n",
    "\n",
    "\n",
    "- .       - Any Character Except New Line\n",
    "- \\d      - Digit (0-9)\n",
    "- \\D      - Not a Digit (0-9)\n",
    "- \\w      - Word Character (a-z, A-Z, 0-9, \\_)\n",
    "- \\W      - Not a Word Character\n",
    "- \\s      - Whitespace (space, tab, newline)\n",
    "- \\S      - Not Whitespace (space, tab, newline)\n",
    "\n",
    "- \\b      - Word Boundary (Matches the empty string, but only at the beginning or end of a word. A word is defined as a sequence of word characters.)\n",
    "- \\B      - Not a Word Boundary\n",
    "- ^       - Beginning of a String\n",
    "- $      - End of a String\n",
    "\n",
    "- \\[\\]      - Matches Characters in brackets\n",
    "- \\[^ \\]    - Matches Characters NOT in brackets\n",
    "- |       - Either Or\n",
    "- ( )     - Group"
   ]
  },
  {
   "cell_type": "code",
   "execution_count": 8,
   "id": "3eb68d44",
   "metadata": {},
   "outputs": [
    {
     "name": "stdout",
     "output_type": "stream",
     "text": [
      "<_sre.SRE_Match object; span=(55, 56), match='1'>\n",
      "<_sre.SRE_Match object; span=(56, 57), match='2'>\n",
      "<_sre.SRE_Match object; span=(57, 58), match='3'>\n",
      "<_sre.SRE_Match object; span=(58, 59), match='4'>\n",
      "<_sre.SRE_Match object; span=(59, 60), match='5'>\n",
      "<_sre.SRE_Match object; span=(60, 61), match='6'>\n",
      "<_sre.SRE_Match object; span=(61, 62), match='7'>\n",
      "<_sre.SRE_Match object; span=(62, 63), match='8'>\n",
      "<_sre.SRE_Match object; span=(63, 64), match='9'>\n",
      "<_sre.SRE_Match object; span=(64, 65), match='0'>\n",
      "<_sre.SRE_Match object; span=(151, 152), match='3'>\n",
      "<_sre.SRE_Match object; span=(152, 153), match='2'>\n",
      "<_sre.SRE_Match object; span=(153, 154), match='1'>\n",
      "<_sre.SRE_Match object; span=(155, 156), match='5'>\n",
      "<_sre.SRE_Match object; span=(156, 157), match='5'>\n",
      "<_sre.SRE_Match object; span=(157, 158), match='5'>\n",
      "<_sre.SRE_Match object; span=(159, 160), match='4'>\n",
      "<_sre.SRE_Match object; span=(160, 161), match='3'>\n",
      "<_sre.SRE_Match object; span=(161, 162), match='2'>\n",
      "<_sre.SRE_Match object; span=(162, 163), match='1'>\n",
      "<_sre.SRE_Match object; span=(164, 165), match='1'>\n",
      "<_sre.SRE_Match object; span=(165, 166), match='2'>\n",
      "<_sre.SRE_Match object; span=(166, 167), match='3'>\n",
      "<_sre.SRE_Match object; span=(168, 169), match='5'>\n",
      "<_sre.SRE_Match object; span=(169, 170), match='5'>\n",
      "<_sre.SRE_Match object; span=(170, 171), match='5'>\n",
      "<_sre.SRE_Match object; span=(172, 173), match='1'>\n",
      "<_sre.SRE_Match object; span=(173, 174), match='2'>\n",
      "<_sre.SRE_Match object; span=(174, 175), match='3'>\n",
      "<_sre.SRE_Match object; span=(175, 176), match='4'>\n",
      "<_sre.SRE_Match object; span=(177, 178), match='1'>\n",
      "<_sre.SRE_Match object; span=(178, 179), match='2'>\n",
      "<_sre.SRE_Match object; span=(179, 180), match='3'>\n",
      "<_sre.SRE_Match object; span=(181, 182), match='5'>\n",
      "<_sre.SRE_Match object; span=(182, 183), match='5'>\n",
      "<_sre.SRE_Match object; span=(183, 184), match='5'>\n",
      "<_sre.SRE_Match object; span=(185, 186), match='1'>\n",
      "<_sre.SRE_Match object; span=(186, 187), match='2'>\n",
      "<_sre.SRE_Match object; span=(187, 188), match='3'>\n",
      "<_sre.SRE_Match object; span=(188, 189), match='4'>\n",
      "<_sre.SRE_Match object; span=(190, 191), match='8'>\n",
      "<_sre.SRE_Match object; span=(191, 192), match='0'>\n",
      "<_sre.SRE_Match object; span=(192, 193), match='0'>\n",
      "<_sre.SRE_Match object; span=(194, 195), match='5'>\n",
      "<_sre.SRE_Match object; span=(195, 196), match='5'>\n",
      "<_sre.SRE_Match object; span=(196, 197), match='5'>\n",
      "<_sre.SRE_Match object; span=(198, 199), match='1'>\n",
      "<_sre.SRE_Match object; span=(199, 200), match='2'>\n",
      "<_sre.SRE_Match object; span=(200, 201), match='3'>\n",
      "<_sre.SRE_Match object; span=(201, 202), match='4'>\n",
      "<_sre.SRE_Match object; span=(203, 204), match='9'>\n",
      "<_sre.SRE_Match object; span=(204, 205), match='0'>\n",
      "<_sre.SRE_Match object; span=(205, 206), match='0'>\n",
      "<_sre.SRE_Match object; span=(207, 208), match='5'>\n",
      "<_sre.SRE_Match object; span=(208, 209), match='5'>\n",
      "<_sre.SRE_Match object; span=(209, 210), match='5'>\n",
      "<_sre.SRE_Match object; span=(211, 212), match='1'>\n",
      "<_sre.SRE_Match object; span=(212, 213), match='2'>\n",
      "<_sre.SRE_Match object; span=(213, 214), match='3'>\n",
      "<_sre.SRE_Match object; span=(214, 215), match='4'>\n"
     ]
    }
   ],
   "source": [
    "# get all the digits in the text\n",
    "\n",
    "pattern_digit = re.compile('\\d')\n",
    "\n",
    "matches = pattern_digit.finditer(text_to_search)\n",
    "for match in matches:\n",
    "    print(match)"
   ]
  },
  {
   "cell_type": "code",
   "execution_count": 9,
   "id": "f74c51c6",
   "metadata": {
    "scrolled": true
   },
   "outputs": [
    {
     "name": "stdout",
     "output_type": "stream",
     "text": [
      "<_sre.SRE_Match object; span=(0, 1), match='\\n'>\n",
      "<_sre.SRE_Match object; span=(27, 28), match='\\n'>\n",
      "<_sre.SRE_Match object; span=(54, 55), match='\\n'>\n",
      "<_sre.SRE_Match object; span=(65, 66), match='\\n'>\n",
      "<_sre.SRE_Match object; span=(68, 69), match=' '>\n",
      "<_sre.SRE_Match object; span=(73, 74), match='\\n'>\n",
      "<_sre.SRE_Match object; span=(88, 89), match=' '>\n",
      "<_sre.SRE_Match object; span=(89, 90), match='('>\n",
      "<_sre.SRE_Match object; span=(94, 95), match=' '>\n",
      "<_sre.SRE_Match object; span=(97, 98), match=' '>\n",
      "<_sre.SRE_Match object; span=(100, 101), match=' '>\n",
      "<_sre.SRE_Match object; span=(108, 109), match=')'>\n",
      "<_sre.SRE_Match object; span=(109, 110), match=':'>\n",
      "<_sre.SRE_Match object; span=(110, 111), match='\\n'>\n",
      "<_sre.SRE_Match object; span=(111, 112), match='.'>\n",
      "<_sre.SRE_Match object; span=(112, 113), match=' '>\n",
      "<_sre.SRE_Match object; span=(113, 114), match='^'>\n",
      "<_sre.SRE_Match object; span=(114, 115), match=' '>\n",
      "<_sre.SRE_Match object; span=(115, 116), match='$'>\n",
      "<_sre.SRE_Match object; span=(116, 117), match=' '>\n",
      "<_sre.SRE_Match object; span=(117, 118), match='*'>\n",
      "<_sre.SRE_Match object; span=(118, 119), match=' '>\n",
      "<_sre.SRE_Match object; span=(119, 120), match='+'>\n",
      "<_sre.SRE_Match object; span=(120, 121), match=' '>\n",
      "<_sre.SRE_Match object; span=(121, 122), match='?'>\n",
      "<_sre.SRE_Match object; span=(122, 123), match=' '>\n",
      "<_sre.SRE_Match object; span=(123, 124), match='{'>\n",
      "<_sre.SRE_Match object; span=(124, 125), match=' '>\n",
      "<_sre.SRE_Match object; span=(125, 126), match='}'>\n",
      "<_sre.SRE_Match object; span=(126, 127), match=' '>\n",
      "<_sre.SRE_Match object; span=(127, 128), match='['>\n",
      "<_sre.SRE_Match object; span=(128, 129), match=' '>\n",
      "<_sre.SRE_Match object; span=(129, 130), match=']'>\n",
      "<_sre.SRE_Match object; span=(130, 131), match=' '>\n",
      "<_sre.SRE_Match object; span=(131, 132), match='\\\\'>\n",
      "<_sre.SRE_Match object; span=(132, 133), match=' '>\n",
      "<_sre.SRE_Match object; span=(133, 134), match='|'>\n",
      "<_sre.SRE_Match object; span=(134, 135), match=' '>\n",
      "<_sre.SRE_Match object; span=(135, 136), match='('>\n",
      "<_sre.SRE_Match object; span=(136, 137), match=' '>\n",
      "<_sre.SRE_Match object; span=(137, 138), match=')'>\n",
      "<_sre.SRE_Match object; span=(138, 139), match='\\n'>\n",
      "<_sre.SRE_Match object; span=(146, 147), match='.'>\n",
      "<_sre.SRE_Match object; span=(150, 151), match='\\n'>\n",
      "<_sre.SRE_Match object; span=(154, 155), match='-'>\n",
      "<_sre.SRE_Match object; span=(158, 159), match='-'>\n",
      "<_sre.SRE_Match object; span=(163, 164), match='\\n'>\n",
      "<_sre.SRE_Match object; span=(167, 168), match='.'>\n",
      "<_sre.SRE_Match object; span=(171, 172), match='.'>\n",
      "<_sre.SRE_Match object; span=(176, 177), match='\\n'>\n",
      "<_sre.SRE_Match object; span=(180, 181), match='*'>\n",
      "<_sre.SRE_Match object; span=(184, 185), match='*'>\n",
      "<_sre.SRE_Match object; span=(189, 190), match='\\n'>\n",
      "<_sre.SRE_Match object; span=(193, 194), match='-'>\n",
      "<_sre.SRE_Match object; span=(197, 198), match='-'>\n",
      "<_sre.SRE_Match object; span=(202, 203), match='\\n'>\n",
      "<_sre.SRE_Match object; span=(206, 207), match='-'>\n",
      "<_sre.SRE_Match object; span=(210, 211), match='-'>\n",
      "<_sre.SRE_Match object; span=(215, 216), match='\\n'>\n",
      "<_sre.SRE_Match object; span=(218, 219), match='.'>\n",
      "<_sre.SRE_Match object; span=(219, 220), match=' '>\n",
      "<_sre.SRE_Match object; span=(227, 228), match='\\n'>\n",
      "<_sre.SRE_Match object; span=(230, 231), match=' '>\n",
      "<_sre.SRE_Match object; span=(236, 237), match='\\n'>\n",
      "<_sre.SRE_Match object; span=(239, 240), match=' '>\n",
      "<_sre.SRE_Match object; span=(245, 246), match='\\n'>\n",
      "<_sre.SRE_Match object; span=(249, 250), match='.'>\n",
      "<_sre.SRE_Match object; span=(250, 251), match=' '>\n",
      "<_sre.SRE_Match object; span=(259, 260), match='\\n'>\n",
      "<_sre.SRE_Match object; span=(262, 263), match='.'>\n",
      "<_sre.SRE_Match object; span=(263, 264), match=' '>\n",
      "<_sre.SRE_Match object; span=(265, 266), match='\\n'>\n"
     ]
    }
   ],
   "source": [
    "# get all the non word characters in the text\n",
    "\n",
    "pattern_non_word_char = re.compile('\\W')\n",
    "\n",
    "matches = pattern_non_word_char.finditer(text_to_search)\n",
    "for match in matches:\n",
    "    print(match)"
   ]
  },
  {
   "cell_type": "code",
   "execution_count": 10,
   "id": "59503f21",
   "metadata": {},
   "outputs": [
    {
     "name": "stdout",
     "output_type": "stream",
     "text": [
      "<_sre.SRE_Match object; span=(66, 68), match='Ha'>\n",
      "<_sre.SRE_Match object; span=(69, 71), match='Ha'>\n"
     ]
    }
   ],
   "source": [
    "# get 'ha' that starts with word boundary(word boundary is any character that is not a word characters \n",
    "# eg- space, tab, newline etc)\n",
    "\n",
    "pattern_ha = re.compile(r'\\bHa')\n",
    "\n",
    "matches = pattern_ha.finditer(text_to_search)\n",
    "for match in matches:\n",
    "    print(match)"
   ]
  },
  {
   "cell_type": "code",
   "execution_count": 11,
   "id": "57906089",
   "metadata": {},
   "outputs": [
    {
     "name": "stdout",
     "output_type": "stream",
     "text": [
      "<_sre.SRE_Match object; span=(71, 73), match='Ha'>\n"
     ]
    }
   ],
   "source": [
    "# gettind the second 'Ha' in 'HaHa'\n",
    "pattern_ha = re.compile(r'\\BHa')\n",
    "\n",
    "matches = pattern_ha.finditer(text_to_search)\n",
    "for match in matches:\n",
    "    print(match)"
   ]
  },
  {
   "cell_type": "code",
   "execution_count": 12,
   "id": "40381332",
   "metadata": {},
   "outputs": [
    {
     "name": "stdout",
     "output_type": "stream",
     "text": [
      "<_sre.SRE_Match object; span=(0, 5), match='Start'>\n"
     ]
    }
   ],
   "source": [
    "# match if the sentence starts with the word 'Start'\n",
    "sentence = 'Start of the sentence and then bring it to an end'\n",
    "pattern_start = re.compile(r'^Start')\n",
    "matches = pattern_start.finditer(sentence)\n",
    "for match in matches:\n",
    "    print(match)"
   ]
  },
  {
   "cell_type": "code",
   "execution_count": 13,
   "id": "3664af4e",
   "metadata": {},
   "outputs": [],
   "source": [
    "# match if the sentence starts with the word 'a'\n",
    "sentence = 'Start of the sentence and then bring it to an end'\n",
    "pattern_start = re.compile(r'^a')\n",
    "matches = pattern_start.finditer(sentence)\n",
    "for match in matches:\n",
    "    print(match)"
   ]
  },
  {
   "cell_type": "markdown",
   "id": "0cd9e503",
   "metadata": {},
   "source": [
    "> Here it outputs nothing as the start of the string sentence does not have *'a'* .\n",
    "*'a'* is present in the sentence but we are just looking for *'a'* only at the start of the sentence because of `^`."
   ]
  },
  {
   "cell_type": "code",
   "execution_count": 14,
   "id": "840b21ea",
   "metadata": {},
   "outputs": [
    {
     "name": "stdout",
     "output_type": "stream",
     "text": [
      "<_sre.SRE_Match object; span=(46, 49), match='end'>\n"
     ]
    }
   ],
   "source": [
    "# matching the string at the end of the string\n",
    "sentence = 'Start of the sentence and then bring it to an end'\n",
    "pattern_end = re.compile(r'end$')\n",
    "matches = pattern_end.finditer(sentence)\n",
    "for match in matches:\n",
    "    print(match)"
   ]
  },
  {
   "cell_type": "code",
   "execution_count": 15,
   "id": "cd4b0853",
   "metadata": {},
   "outputs": [],
   "source": [
    "# match if the string ends with 'b'\n",
    "sentence = 'Start of the sentence and then bring it to an end'\n",
    "pattern_end = re.compile(r'b$')\n",
    "matches = pattern_end.finditer(sentence)\n",
    "for match in matches:\n",
    "    print(match)"
   ]
  },
  {
   "cell_type": "markdown",
   "id": "dce6b618",
   "metadata": {},
   "source": [
    "> Here it outputs nothing as the end of the string does not have *'b'*.\n",
    "*'b'* is present in the sentence but we are just looking for *'b'* only at the end of the sentence because of `$`."
   ]
  },
  {
   "cell_type": "code",
   "execution_count": 16,
   "id": "e09ce624",
   "metadata": {
    "scrolled": true
   },
   "outputs": [
    {
     "name": "stdout",
     "output_type": "stream",
     "text": [
      "<_sre.SRE_Match object; span=(151, 163), match='321-555-4321'>\n",
      "<_sre.SRE_Match object; span=(164, 176), match='123.555.1234'>\n",
      "<_sre.SRE_Match object; span=(177, 189), match='123*555*1234'>\n",
      "<_sre.SRE_Match object; span=(190, 202), match='800-555-1234'>\n",
      "<_sre.SRE_Match object; span=(203, 215), match='900-555-1234'>\n"
     ]
    }
   ],
   "source": [
    "# lets match phone numbers in the text_to_search of pattern 123-123-1234 or 123*123*1234\n",
    "pattern_ph_no = re.compile(r'\\d\\d\\d.\\d\\d\\d.\\d\\d\\d\\d')\n",
    "matches = pattern_ph_no.finditer(text_to_search)\n",
    "for match in matches:\n",
    "    print(match)"
   ]
  },
  {
   "cell_type": "markdown",
   "id": "3e609f41",
   "metadata": {},
   "source": [
    "> Here we are getting the phone numbers where the seperators are \\* or any character "
   ]
  },
  {
   "cell_type": "code",
   "execution_count": 17,
   "id": "13c27082",
   "metadata": {},
   "outputs": [
    {
     "name": "stdout",
     "output_type": "stream",
     "text": [
      "<_sre.SRE_Match object; span=(151, 163), match='321-555-4321'>\n",
      "<_sre.SRE_Match object; span=(164, 176), match='123.555.1234'>\n",
      "<_sre.SRE_Match object; span=(190, 202), match='800-555-1234'>\n",
      "<_sre.SRE_Match object; span=(203, 215), match='900-555-1234'>\n"
     ]
    }
   ],
   "source": [
    "# Get all phone numbers whose seperators are eithers dash(-) or a dot(.)\n",
    "pattern_ph_no = re.compile(r'\\d\\d\\d[-.]\\d\\d\\d[-.]\\d\\d\\d\\d')\n",
    "matches = pattern_ph_no.finditer(text_to_search)\n",
    "for match in matches:\n",
    "    print(match)"
   ]
  },
  {
   "cell_type": "markdown",
   "id": "b608fa45",
   "metadata": {},
   "source": [
    "### NOTE \n",
    "- Here in character set of '-.' we didnt have to escape the dot as in character set there a slightly different rules but we can escape them if we want.\n",
    "- Also even though we have two characters in the character set still it will only match if any one is present and also it should be present exactly once."
   ]
  },
  {
   "cell_type": "code",
   "execution_count": 18,
   "id": "6a9160f5",
   "metadata": {},
   "outputs": [
    {
     "name": "stdout",
     "output_type": "stream",
     "text": [
      "<_sre.SRE_Match object; span=(0, 12), match='123-123-1234'>\n",
      "<_sre.SRE_Match object; span=(13, 25), match='354.354.1234'>\n"
     ]
    }
   ],
   "source": [
    "# example for above note\n",
    "sentence = \"\"\"123-123-1234\n",
    "354.354.1234\n",
    "256--433.7413\n",
    "134-.356.4354\n",
    "344.-541-3651\"\"\"\n",
    "\n",
    "pattern_ph_no = re.compile(r'\\d\\d\\d[-.]\\d\\d\\d[-.]\\d\\d\\d\\d')\n",
    "matches = pattern_ph_no.finditer(sentence)\n",
    "for match in matches:\n",
    "    print(match)"
   ]
  },
  {
   "cell_type": "code",
   "execution_count": 19,
   "id": "af92367a",
   "metadata": {},
   "outputs": [
    {
     "name": "stdout",
     "output_type": "stream",
     "text": [
      "<_sre.SRE_Match object; span=(26, 38), match='800-433.7413'>\n",
      "<_sre.SRE_Match object; span=(52, 64), match='900.541-3651'>\n"
     ]
    }
   ],
   "source": [
    "# get all the phone numbers that start with 800 or 900\n",
    "sentence = \"\"\"123-123-1234\n",
    "354.354.1234\n",
    "800-433.7413\n",
    "134-356.4354\n",
    "900.541-3651\"\"\"\n",
    "\n",
    "pattern_ph_no = re.compile(r'[89]00[-.]\\d\\d\\d[-.]\\d\\d\\d\\d')\n",
    "matches = pattern_ph_no.finditer(sentence)\n",
    "for match in matches:\n",
    "    print(match)"
   ]
  },
  {
   "cell_type": "markdown",
   "id": "113f429c",
   "metadata": {},
   "source": [
    "> `[89]` denotes that the number must have either 8 or 9 (***not both***).<br>\n",
    "`00` dontes that after we have matched either 8 or 9 then we look for exactly 2 zeros.<br>\n",
    "`[-.]` we just match that we should have dash or a dot as sepeartor (***not both***).<br>\n",
    "`\\d\\d\\d` This denotes that we need exactly 3 digits after the seperator."
   ]
  },
  {
   "cell_type": "markdown",
   "id": "c24f6ae0",
   "metadata": {},
   "source": [
    " ### Note\n",
    "- Dash has a special function in character sets [].\n",
    "- when used at the start or end of the character set it just tells regex to match for dash in the string.\n",
    "- But when used between 2 characters in a character set it specifies a range.\n",
    "- eg. `[A-J]` would specify that regex should match all the characters in that range. "
   ]
  },
  {
   "cell_type": "code",
   "execution_count": 21,
   "id": "d55076c4",
   "metadata": {
    "scrolled": true
   },
   "outputs": [
    {
     "name": "stdout",
     "output_type": "stream",
     "text": [
      "<_sre.SRE_Match object; span=(55, 56), match='1'>\n",
      "<_sre.SRE_Match object; span=(56, 57), match='2'>\n",
      "<_sre.SRE_Match object; span=(57, 58), match='3'>\n",
      "<_sre.SRE_Match object; span=(58, 59), match='4'>\n",
      "<_sre.SRE_Match object; span=(59, 60), match='5'>\n",
      "<_sre.SRE_Match object; span=(151, 152), match='3'>\n",
      "<_sre.SRE_Match object; span=(152, 153), match='2'>\n",
      "<_sre.SRE_Match object; span=(153, 154), match='1'>\n",
      "<_sre.SRE_Match object; span=(155, 156), match='5'>\n",
      "<_sre.SRE_Match object; span=(156, 157), match='5'>\n",
      "<_sre.SRE_Match object; span=(157, 158), match='5'>\n",
      "<_sre.SRE_Match object; span=(159, 160), match='4'>\n",
      "<_sre.SRE_Match object; span=(160, 161), match='3'>\n",
      "<_sre.SRE_Match object; span=(161, 162), match='2'>\n",
      "<_sre.SRE_Match object; span=(162, 163), match='1'>\n",
      "<_sre.SRE_Match object; span=(164, 165), match='1'>\n",
      "<_sre.SRE_Match object; span=(165, 166), match='2'>\n",
      "<_sre.SRE_Match object; span=(166, 167), match='3'>\n",
      "<_sre.SRE_Match object; span=(168, 169), match='5'>\n",
      "<_sre.SRE_Match object; span=(169, 170), match='5'>\n",
      "<_sre.SRE_Match object; span=(170, 171), match='5'>\n",
      "<_sre.SRE_Match object; span=(172, 173), match='1'>\n",
      "<_sre.SRE_Match object; span=(173, 174), match='2'>\n",
      "<_sre.SRE_Match object; span=(174, 175), match='3'>\n",
      "<_sre.SRE_Match object; span=(175, 176), match='4'>\n",
      "<_sre.SRE_Match object; span=(177, 178), match='1'>\n",
      "<_sre.SRE_Match object; span=(178, 179), match='2'>\n",
      "<_sre.SRE_Match object; span=(179, 180), match='3'>\n",
      "<_sre.SRE_Match object; span=(181, 182), match='5'>\n",
      "<_sre.SRE_Match object; span=(182, 183), match='5'>\n",
      "<_sre.SRE_Match object; span=(183, 184), match='5'>\n",
      "<_sre.SRE_Match object; span=(185, 186), match='1'>\n",
      "<_sre.SRE_Match object; span=(186, 187), match='2'>\n",
      "<_sre.SRE_Match object; span=(187, 188), match='3'>\n",
      "<_sre.SRE_Match object; span=(188, 189), match='4'>\n",
      "<_sre.SRE_Match object; span=(194, 195), match='5'>\n",
      "<_sre.SRE_Match object; span=(195, 196), match='5'>\n",
      "<_sre.SRE_Match object; span=(196, 197), match='5'>\n",
      "<_sre.SRE_Match object; span=(198, 199), match='1'>\n",
      "<_sre.SRE_Match object; span=(199, 200), match='2'>\n",
      "<_sre.SRE_Match object; span=(200, 201), match='3'>\n",
      "<_sre.SRE_Match object; span=(201, 202), match='4'>\n",
      "<_sre.SRE_Match object; span=(207, 208), match='5'>\n",
      "<_sre.SRE_Match object; span=(208, 209), match='5'>\n",
      "<_sre.SRE_Match object; span=(209, 210), match='5'>\n",
      "<_sre.SRE_Match object; span=(211, 212), match='1'>\n",
      "<_sre.SRE_Match object; span=(212, 213), match='2'>\n",
      "<_sre.SRE_Match object; span=(213, 214), match='3'>\n",
      "<_sre.SRE_Match object; span=(214, 215), match='4'>\n"
     ]
    }
   ],
   "source": [
    "# match only digits from range 1 to 5\n",
    "pattern_digits = re.compile(r'[1-5]')\n",
    "matches = pattern_digits.finditer(text_to_search)\n",
    "for match in matches:\n",
    "    print(match)"
   ]
  },
  {
   "cell_type": "code",
   "execution_count": 22,
   "id": "d80f88da",
   "metadata": {
    "scrolled": true
   },
   "outputs": [
    {
     "name": "stdout",
     "output_type": "stream",
     "text": [
      "<_sre.SRE_Match object; span=(1, 2), match='a'>\n",
      "<_sre.SRE_Match object; span=(2, 3), match='b'>\n",
      "<_sre.SRE_Match object; span=(3, 4), match='c'>\n",
      "<_sre.SRE_Match object; span=(4, 5), match='d'>\n",
      "<_sre.SRE_Match object; span=(5, 6), match='e'>\n",
      "<_sre.SRE_Match object; span=(6, 7), match='f'>\n",
      "<_sre.SRE_Match object; span=(7, 8), match='g'>\n",
      "<_sre.SRE_Match object; span=(8, 9), match='h'>\n",
      "<_sre.SRE_Match object; span=(9, 10), match='i'>\n",
      "<_sre.SRE_Match object; span=(10, 11), match='j'>\n",
      "<_sre.SRE_Match object; span=(67, 68), match='a'>\n",
      "<_sre.SRE_Match object; span=(70, 71), match='a'>\n",
      "<_sre.SRE_Match object; span=(72, 73), match='a'>\n",
      "<_sre.SRE_Match object; span=(75, 76), match='e'>\n",
      "<_sre.SRE_Match object; span=(77, 78), match='a'>\n",
      "<_sre.SRE_Match object; span=(79, 80), match='h'>\n",
      "<_sre.SRE_Match object; span=(80, 81), match='a'>\n",
      "<_sre.SRE_Match object; span=(82, 83), match='a'>\n",
      "<_sre.SRE_Match object; span=(83, 84), match='c'>\n",
      "<_sre.SRE_Match object; span=(85, 86), match='e'>\n",
      "<_sre.SRE_Match object; span=(91, 92), match='e'>\n",
      "<_sre.SRE_Match object; span=(92, 93), match='e'>\n",
      "<_sre.SRE_Match object; span=(93, 94), match='d'>\n",
      "<_sre.SRE_Match object; span=(98, 99), match='b'>\n",
      "<_sre.SRE_Match object; span=(99, 100), match='e'>\n",
      "<_sre.SRE_Match object; span=(101, 102), match='e'>\n",
      "<_sre.SRE_Match object; span=(103, 104), match='c'>\n",
      "<_sre.SRE_Match object; span=(104, 105), match='a'>\n",
      "<_sre.SRE_Match object; span=(106, 107), match='e'>\n",
      "<_sre.SRE_Match object; span=(107, 108), match='d'>\n",
      "<_sre.SRE_Match object; span=(139, 140), match='c'>\n",
      "<_sre.SRE_Match object; span=(142, 143), match='e'>\n",
      "<_sre.SRE_Match object; span=(147, 148), match='c'>\n",
      "<_sre.SRE_Match object; span=(221, 222), match='c'>\n",
      "<_sre.SRE_Match object; span=(222, 223), match='h'>\n",
      "<_sre.SRE_Match object; span=(223, 224), match='a'>\n",
      "<_sre.SRE_Match object; span=(224, 225), match='f'>\n",
      "<_sre.SRE_Match object; span=(225, 226), match='e'>\n",
      "<_sre.SRE_Match object; span=(233, 234), match='i'>\n",
      "<_sre.SRE_Match object; span=(235, 236), match='h'>\n",
      "<_sre.SRE_Match object; span=(241, 242), match='a'>\n",
      "<_sre.SRE_Match object; span=(243, 244), match='i'>\n",
      "<_sre.SRE_Match object; span=(253, 254), match='b'>\n",
      "<_sre.SRE_Match object; span=(254, 255), match='i'>\n"
     ]
    }
   ],
   "source": [
    "# match only lower case a to j\n",
    "pattern_letters = re.compile(r'[a-j]')\n",
    "matches = pattern_letters.finditer(text_to_search)\n",
    "for match in matches:\n",
    "    print(match)"
   ]
  },
  {
   "cell_type": "code",
   "execution_count": 23,
   "id": "30638c53",
   "metadata": {
    "scrolled": true
   },
   "outputs": [
    {
     "name": "stdout",
     "output_type": "stream",
     "text": [
      "<_sre.SRE_Match object; span=(1, 2), match='a'>\n",
      "<_sre.SRE_Match object; span=(2, 3), match='b'>\n",
      "<_sre.SRE_Match object; span=(3, 4), match='c'>\n",
      "<_sre.SRE_Match object; span=(4, 5), match='d'>\n",
      "<_sre.SRE_Match object; span=(5, 6), match='e'>\n",
      "<_sre.SRE_Match object; span=(6, 7), match='f'>\n",
      "<_sre.SRE_Match object; span=(7, 8), match='g'>\n",
      "<_sre.SRE_Match object; span=(8, 9), match='h'>\n",
      "<_sre.SRE_Match object; span=(9, 10), match='i'>\n",
      "<_sre.SRE_Match object; span=(10, 11), match='j'>\n",
      "<_sre.SRE_Match object; span=(28, 29), match='A'>\n",
      "<_sre.SRE_Match object; span=(29, 30), match='B'>\n",
      "<_sre.SRE_Match object; span=(30, 31), match='C'>\n",
      "<_sre.SRE_Match object; span=(31, 32), match='D'>\n",
      "<_sre.SRE_Match object; span=(32, 33), match='E'>\n",
      "<_sre.SRE_Match object; span=(33, 34), match='F'>\n",
      "<_sre.SRE_Match object; span=(34, 35), match='G'>\n",
      "<_sre.SRE_Match object; span=(67, 68), match='a'>\n",
      "<_sre.SRE_Match object; span=(70, 71), match='a'>\n",
      "<_sre.SRE_Match object; span=(72, 73), match='a'>\n",
      "<_sre.SRE_Match object; span=(75, 76), match='e'>\n",
      "<_sre.SRE_Match object; span=(77, 78), match='a'>\n",
      "<_sre.SRE_Match object; span=(78, 79), match='C'>\n",
      "<_sre.SRE_Match object; span=(79, 80), match='h'>\n",
      "<_sre.SRE_Match object; span=(80, 81), match='a'>\n",
      "<_sre.SRE_Match object; span=(82, 83), match='a'>\n",
      "<_sre.SRE_Match object; span=(83, 84), match='c'>\n",
      "<_sre.SRE_Match object; span=(85, 86), match='e'>\n",
      "<_sre.SRE_Match object; span=(91, 92), match='e'>\n",
      "<_sre.SRE_Match object; span=(92, 93), match='e'>\n",
      "<_sre.SRE_Match object; span=(93, 94), match='d'>\n",
      "<_sre.SRE_Match object; span=(98, 99), match='b'>\n",
      "<_sre.SRE_Match object; span=(99, 100), match='e'>\n",
      "<_sre.SRE_Match object; span=(101, 102), match='e'>\n",
      "<_sre.SRE_Match object; span=(103, 104), match='c'>\n",
      "<_sre.SRE_Match object; span=(104, 105), match='a'>\n",
      "<_sre.SRE_Match object; span=(106, 107), match='e'>\n",
      "<_sre.SRE_Match object; span=(107, 108), match='d'>\n",
      "<_sre.SRE_Match object; span=(139, 140), match='c'>\n",
      "<_sre.SRE_Match object; span=(142, 143), match='e'>\n",
      "<_sre.SRE_Match object; span=(147, 148), match='c'>\n",
      "<_sre.SRE_Match object; span=(221, 222), match='c'>\n",
      "<_sre.SRE_Match object; span=(222, 223), match='h'>\n",
      "<_sre.SRE_Match object; span=(223, 224), match='a'>\n",
      "<_sre.SRE_Match object; span=(224, 225), match='f'>\n",
      "<_sre.SRE_Match object; span=(225, 226), match='e'>\n",
      "<_sre.SRE_Match object; span=(233, 234), match='i'>\n",
      "<_sre.SRE_Match object; span=(235, 236), match='h'>\n",
      "<_sre.SRE_Match object; span=(240, 241), match='D'>\n",
      "<_sre.SRE_Match object; span=(241, 242), match='a'>\n",
      "<_sre.SRE_Match object; span=(243, 244), match='i'>\n",
      "<_sre.SRE_Match object; span=(253, 254), match='b'>\n",
      "<_sre.SRE_Match object; span=(254, 255), match='i'>\n"
     ]
    }
   ],
   "source": [
    "# match characters from lower case 'a' to 'j' and uppercase 'A' to 'G'\n",
    "\n",
    "pattern_letters = re.compile(r'[a-jA-G]')\n",
    "matches = pattern_letters.finditer(text_to_search)\n",
    "for match in matches:\n",
    "    print(match)"
   ]
  },
  {
   "cell_type": "markdown",
   "id": "2846e946",
   "metadata": {},
   "source": [
    "### Note\n",
    "- carat `^` out side a character set denotes the start of the string.\n",
    "- But inside othe character set it denotes **NOT**\n",
    "- eg. `[^A-G]` This denotes that regex should match all the characters except from the range 'A' to 'G'. "
   ]
  },
  {
   "cell_type": "code",
   "execution_count": 24,
   "id": "9e1bfa5a",
   "metadata": {},
   "outputs": [
    {
     "name": "stdout",
     "output_type": "stream",
     "text": [
      "<_sre.SRE_Match object; span=(0, 1), match='\\n'>\n",
      "<_sre.SRE_Match object; span=(27, 28), match='\\n'>\n",
      "<_sre.SRE_Match object; span=(28, 29), match='A'>\n",
      "<_sre.SRE_Match object; span=(29, 30), match='B'>\n",
      "<_sre.SRE_Match object; span=(30, 31), match='C'>\n",
      "<_sre.SRE_Match object; span=(31, 32), match='D'>\n",
      "<_sre.SRE_Match object; span=(32, 33), match='E'>\n",
      "<_sre.SRE_Match object; span=(33, 34), match='F'>\n",
      "<_sre.SRE_Match object; span=(34, 35), match='G'>\n",
      "<_sre.SRE_Match object; span=(35, 36), match='H'>\n",
      "<_sre.SRE_Match object; span=(36, 37), match='I'>\n",
      "<_sre.SRE_Match object; span=(37, 38), match='J'>\n",
      "<_sre.SRE_Match object; span=(38, 39), match='K'>\n",
      "<_sre.SRE_Match object; span=(39, 40), match='L'>\n",
      "<_sre.SRE_Match object; span=(40, 41), match='M'>\n",
      "<_sre.SRE_Match object; span=(41, 42), match='N'>\n",
      "<_sre.SRE_Match object; span=(42, 43), match='O'>\n",
      "<_sre.SRE_Match object; span=(43, 44), match='P'>\n",
      "<_sre.SRE_Match object; span=(44, 45), match='Q'>\n",
      "<_sre.SRE_Match object; span=(45, 46), match='R'>\n",
      "<_sre.SRE_Match object; span=(46, 47), match='S'>\n",
      "<_sre.SRE_Match object; span=(47, 48), match='T'>\n",
      "<_sre.SRE_Match object; span=(48, 49), match='U'>\n",
      "<_sre.SRE_Match object; span=(49, 50), match='V'>\n",
      "<_sre.SRE_Match object; span=(50, 51), match='W'>\n",
      "<_sre.SRE_Match object; span=(51, 52), match='X'>\n",
      "<_sre.SRE_Match object; span=(52, 53), match='Y'>\n",
      "<_sre.SRE_Match object; span=(53, 54), match='Z'>\n",
      "<_sre.SRE_Match object; span=(54, 55), match='\\n'>\n",
      "<_sre.SRE_Match object; span=(55, 56), match='1'>\n",
      "<_sre.SRE_Match object; span=(56, 57), match='2'>\n",
      "<_sre.SRE_Match object; span=(57, 58), match='3'>\n",
      "<_sre.SRE_Match object; span=(58, 59), match='4'>\n",
      "<_sre.SRE_Match object; span=(59, 60), match='5'>\n",
      "<_sre.SRE_Match object; span=(60, 61), match='6'>\n",
      "<_sre.SRE_Match object; span=(61, 62), match='7'>\n",
      "<_sre.SRE_Match object; span=(62, 63), match='8'>\n",
      "<_sre.SRE_Match object; span=(63, 64), match='9'>\n",
      "<_sre.SRE_Match object; span=(64, 65), match='0'>\n",
      "<_sre.SRE_Match object; span=(65, 66), match='\\n'>\n",
      "<_sre.SRE_Match object; span=(66, 67), match='H'>\n",
      "<_sre.SRE_Match object; span=(68, 69), match=' '>\n",
      "<_sre.SRE_Match object; span=(69, 70), match='H'>\n",
      "<_sre.SRE_Match object; span=(71, 72), match='H'>\n",
      "<_sre.SRE_Match object; span=(73, 74), match='\\n'>\n",
      "<_sre.SRE_Match object; span=(74, 75), match='M'>\n",
      "<_sre.SRE_Match object; span=(78, 79), match='C'>\n",
      "<_sre.SRE_Match object; span=(88, 89), match=' '>\n",
      "<_sre.SRE_Match object; span=(89, 90), match='('>\n",
      "<_sre.SRE_Match object; span=(90, 91), match='N'>\n",
      "<_sre.SRE_Match object; span=(94, 95), match=' '>\n",
      "<_sre.SRE_Match object; span=(97, 98), match=' '>\n",
      "<_sre.SRE_Match object; span=(100, 101), match=' '>\n",
      "<_sre.SRE_Match object; span=(108, 109), match=')'>\n",
      "<_sre.SRE_Match object; span=(109, 110), match=':'>\n",
      "<_sre.SRE_Match object; span=(110, 111), match='\\n'>\n",
      "<_sre.SRE_Match object; span=(111, 112), match='.'>\n",
      "<_sre.SRE_Match object; span=(112, 113), match=' '>\n",
      "<_sre.SRE_Match object; span=(113, 114), match='^'>\n",
      "<_sre.SRE_Match object; span=(114, 115), match=' '>\n",
      "<_sre.SRE_Match object; span=(115, 116), match='$'>\n",
      "<_sre.SRE_Match object; span=(116, 117), match=' '>\n",
      "<_sre.SRE_Match object; span=(117, 118), match='*'>\n",
      "<_sre.SRE_Match object; span=(118, 119), match=' '>\n",
      "<_sre.SRE_Match object; span=(119, 120), match='+'>\n",
      "<_sre.SRE_Match object; span=(120, 121), match=' '>\n",
      "<_sre.SRE_Match object; span=(121, 122), match='?'>\n",
      "<_sre.SRE_Match object; span=(122, 123), match=' '>\n",
      "<_sre.SRE_Match object; span=(123, 124), match='{'>\n",
      "<_sre.SRE_Match object; span=(124, 125), match=' '>\n",
      "<_sre.SRE_Match object; span=(125, 126), match='}'>\n",
      "<_sre.SRE_Match object; span=(126, 127), match=' '>\n",
      "<_sre.SRE_Match object; span=(127, 128), match='['>\n",
      "<_sre.SRE_Match object; span=(128, 129), match=' '>\n",
      "<_sre.SRE_Match object; span=(129, 130), match=']'>\n",
      "<_sre.SRE_Match object; span=(130, 131), match=' '>\n",
      "<_sre.SRE_Match object; span=(131, 132), match='\\\\'>\n",
      "<_sre.SRE_Match object; span=(132, 133), match=' '>\n",
      "<_sre.SRE_Match object; span=(133, 134), match='|'>\n",
      "<_sre.SRE_Match object; span=(134, 135), match=' '>\n",
      "<_sre.SRE_Match object; span=(135, 136), match='('>\n",
      "<_sre.SRE_Match object; span=(136, 137), match=' '>\n",
      "<_sre.SRE_Match object; span=(137, 138), match=')'>\n",
      "<_sre.SRE_Match object; span=(138, 139), match='\\n'>\n",
      "<_sre.SRE_Match object; span=(146, 147), match='.'>\n",
      "<_sre.SRE_Match object; span=(150, 151), match='\\n'>\n",
      "<_sre.SRE_Match object; span=(151, 152), match='3'>\n",
      "<_sre.SRE_Match object; span=(152, 153), match='2'>\n",
      "<_sre.SRE_Match object; span=(153, 154), match='1'>\n",
      "<_sre.SRE_Match object; span=(154, 155), match='-'>\n",
      "<_sre.SRE_Match object; span=(155, 156), match='5'>\n",
      "<_sre.SRE_Match object; span=(156, 157), match='5'>\n",
      "<_sre.SRE_Match object; span=(157, 158), match='5'>\n",
      "<_sre.SRE_Match object; span=(158, 159), match='-'>\n",
      "<_sre.SRE_Match object; span=(159, 160), match='4'>\n",
      "<_sre.SRE_Match object; span=(160, 161), match='3'>\n",
      "<_sre.SRE_Match object; span=(161, 162), match='2'>\n",
      "<_sre.SRE_Match object; span=(162, 163), match='1'>\n",
      "<_sre.SRE_Match object; span=(163, 164), match='\\n'>\n",
      "<_sre.SRE_Match object; span=(164, 165), match='1'>\n",
      "<_sre.SRE_Match object; span=(165, 166), match='2'>\n",
      "<_sre.SRE_Match object; span=(166, 167), match='3'>\n",
      "<_sre.SRE_Match object; span=(167, 168), match='.'>\n",
      "<_sre.SRE_Match object; span=(168, 169), match='5'>\n",
      "<_sre.SRE_Match object; span=(169, 170), match='5'>\n",
      "<_sre.SRE_Match object; span=(170, 171), match='5'>\n",
      "<_sre.SRE_Match object; span=(171, 172), match='.'>\n",
      "<_sre.SRE_Match object; span=(172, 173), match='1'>\n",
      "<_sre.SRE_Match object; span=(173, 174), match='2'>\n",
      "<_sre.SRE_Match object; span=(174, 175), match='3'>\n",
      "<_sre.SRE_Match object; span=(175, 176), match='4'>\n",
      "<_sre.SRE_Match object; span=(176, 177), match='\\n'>\n",
      "<_sre.SRE_Match object; span=(177, 178), match='1'>\n",
      "<_sre.SRE_Match object; span=(178, 179), match='2'>\n",
      "<_sre.SRE_Match object; span=(179, 180), match='3'>\n",
      "<_sre.SRE_Match object; span=(180, 181), match='*'>\n",
      "<_sre.SRE_Match object; span=(181, 182), match='5'>\n",
      "<_sre.SRE_Match object; span=(182, 183), match='5'>\n",
      "<_sre.SRE_Match object; span=(183, 184), match='5'>\n",
      "<_sre.SRE_Match object; span=(184, 185), match='*'>\n",
      "<_sre.SRE_Match object; span=(185, 186), match='1'>\n",
      "<_sre.SRE_Match object; span=(186, 187), match='2'>\n",
      "<_sre.SRE_Match object; span=(187, 188), match='3'>\n",
      "<_sre.SRE_Match object; span=(188, 189), match='4'>\n",
      "<_sre.SRE_Match object; span=(189, 190), match='\\n'>\n",
      "<_sre.SRE_Match object; span=(190, 191), match='8'>\n",
      "<_sre.SRE_Match object; span=(191, 192), match='0'>\n",
      "<_sre.SRE_Match object; span=(192, 193), match='0'>\n",
      "<_sre.SRE_Match object; span=(193, 194), match='-'>\n",
      "<_sre.SRE_Match object; span=(194, 195), match='5'>\n",
      "<_sre.SRE_Match object; span=(195, 196), match='5'>\n",
      "<_sre.SRE_Match object; span=(196, 197), match='5'>\n",
      "<_sre.SRE_Match object; span=(197, 198), match='-'>\n",
      "<_sre.SRE_Match object; span=(198, 199), match='1'>\n",
      "<_sre.SRE_Match object; span=(199, 200), match='2'>\n",
      "<_sre.SRE_Match object; span=(200, 201), match='3'>\n",
      "<_sre.SRE_Match object; span=(201, 202), match='4'>\n",
      "<_sre.SRE_Match object; span=(202, 203), match='\\n'>\n",
      "<_sre.SRE_Match object; span=(203, 204), match='9'>\n",
      "<_sre.SRE_Match object; span=(204, 205), match='0'>\n",
      "<_sre.SRE_Match object; span=(205, 206), match='0'>\n",
      "<_sre.SRE_Match object; span=(206, 207), match='-'>\n",
      "<_sre.SRE_Match object; span=(207, 208), match='5'>\n",
      "<_sre.SRE_Match object; span=(208, 209), match='5'>\n",
      "<_sre.SRE_Match object; span=(209, 210), match='5'>\n",
      "<_sre.SRE_Match object; span=(210, 211), match='-'>\n",
      "<_sre.SRE_Match object; span=(211, 212), match='1'>\n",
      "<_sre.SRE_Match object; span=(212, 213), match='2'>\n",
      "<_sre.SRE_Match object; span=(213, 214), match='3'>\n",
      "<_sre.SRE_Match object; span=(214, 215), match='4'>\n",
      "<_sre.SRE_Match object; span=(215, 216), match='\\n'>\n",
      "<_sre.SRE_Match object; span=(216, 217), match='M'>\n",
      "<_sre.SRE_Match object; span=(218, 219), match='.'>\n",
      "<_sre.SRE_Match object; span=(219, 220), match=' '>\n",
      "<_sre.SRE_Match object; span=(220, 221), match='S'>\n",
      "<_sre.SRE_Match object; span=(227, 228), match='\\n'>\n",
      "<_sre.SRE_Match object; span=(228, 229), match='M'>\n",
      "<_sre.SRE_Match object; span=(230, 231), match=' '>\n",
      "<_sre.SRE_Match object; span=(231, 232), match='S'>\n",
      "<_sre.SRE_Match object; span=(236, 237), match='\\n'>\n",
      "<_sre.SRE_Match object; span=(237, 238), match='M'>\n",
      "<_sre.SRE_Match object; span=(239, 240), match=' '>\n",
      "<_sre.SRE_Match object; span=(240, 241), match='D'>\n",
      "<_sre.SRE_Match object; span=(245, 246), match='\\n'>\n",
      "<_sre.SRE_Match object; span=(246, 247), match='M'>\n",
      "<_sre.SRE_Match object; span=(249, 250), match='.'>\n",
      "<_sre.SRE_Match object; span=(250, 251), match=' '>\n",
      "<_sre.SRE_Match object; span=(251, 252), match='R'>\n",
      "<_sre.SRE_Match object; span=(259, 260), match='\\n'>\n",
      "<_sre.SRE_Match object; span=(260, 261), match='M'>\n",
      "<_sre.SRE_Match object; span=(262, 263), match='.'>\n",
      "<_sre.SRE_Match object; span=(263, 264), match=' '>\n",
      "<_sre.SRE_Match object; span=(264, 265), match='T'>\n",
      "<_sre.SRE_Match object; span=(265, 266), match='\\n'>\n"
     ]
    }
   ],
   "source": [
    "# match everything that is not a lowercase letter \n",
    "pattern_not_lower = re.compile(r'[^a-z]')\n",
    "matches = pattern_not_lower.finditer(text_to_search)\n",
    "for match in matches:\n",
    "    print(match)"
   ]
  },
  {
   "cell_type": "code",
   "execution_count": 25,
   "id": "6bd1f0d3",
   "metadata": {},
   "outputs": [
    {
     "name": "stdout",
     "output_type": "stream",
     "text": [
      "<_sre.SRE_Match object; span=(0, 3), match='mat'>\n",
      "<_sre.SRE_Match object; span=(4, 7), match='pat'>\n",
      "<_sre.SRE_Match object; span=(8, 11), match='rat'>\n",
      "<_sre.SRE_Match object; span=(16, 19), match='cat'>\n"
     ]
    }
   ],
   "source": [
    "# in a sentence match all the three letter words that end with 'at' but dont match 'bat'\n",
    "sentence = 'mat pat rat bat cat'\n",
    "pattern_not_bat = re.compile(r'[^b]at')\n",
    "matches = pattern_not_bat.finditer(sentence)\n",
    "for match in matches:\n",
    "    print(match)"
   ]
  },
  {
   "cell_type": "markdown",
   "id": "5076b99b",
   "metadata": {},
   "source": [
    "---\n",
    "### Quantifiers:\n",
    "- \\*       - 0 or More\n",
    "- \\+       - 1 or More\n",
    "- \\?       - 0 or One\n",
    "- \\{3\\}     - Exact Number\n",
    "- \\{3,4\\}   - Range of Numbers (Minimum, Maximum)"
   ]
  },
  {
   "cell_type": "code",
   "execution_count": 26,
   "id": "a860ff9b",
   "metadata": {},
   "outputs": [
    {
     "name": "stdout",
     "output_type": "stream",
     "text": [
      "<_sre.SRE_Match object; span=(151, 163), match='321-555-4321'>\n",
      "<_sre.SRE_Match object; span=(164, 176), match='123.555.1234'>\n",
      "<_sre.SRE_Match object; span=(177, 189), match='123*555*1234'>\n",
      "<_sre.SRE_Match object; span=(190, 202), match='800-555-1234'>\n",
      "<_sre.SRE_Match object; span=(203, 215), match='900-555-1234'>\n"
     ]
    }
   ],
   "source": [
    "# lets use quantifier to match phone numbers\n",
    "pattern_ph_no = re.compile(r'\\d{3}.\\d{3}.\\d{4}')\n",
    "matches = pattern_ph_no.finditer(text_to_search)\n",
    "for match in matches:\n",
    "    print(match)"
   ]
  },
  {
   "cell_type": "markdown",
   "id": "2795ad70",
   "metadata": {},
   "source": [
    "> Thus `\\d{3}` denotes that we need 3 of the digit characters.<br>\n",
    "This is better that writting `\\d\\d\\d` as we would need to type this 10 time (say) if we need a 10 digit number from the string."
   ]
  },
  {
   "cell_type": "code",
   "execution_count": 27,
   "id": "dddc4096",
   "metadata": {},
   "outputs": [
    {
     "name": "stdout",
     "output_type": "stream",
     "text": [
      "<_sre.SRE_Match object; span=(216, 227), match='Mr. Schafer'>\n",
      "<_sre.SRE_Match object; span=(228, 236), match='Mr Smith'>\n",
      "<_sre.SRE_Match object; span=(260, 265), match='Mr. T'>\n"
     ]
    }
   ],
   "source": [
    "# lets match names from a string that start from Mr\n",
    "sentence = \"\"\"\n",
    "Mr. Schafer\n",
    "Mr Smith\n",
    "Ms Davis\n",
    "Mrs. Robinson\n",
    "Mr. T\n",
    "\"\"\"\n",
    "# here we can see that few Mr have dot at the end and few don't\n",
    "pattern_names = re.compile(r'Mr\\.?\\s[A-Z]\\w*')\n",
    "matches = pattern_names.finditer(text_to_search)\n",
    "for match in matches:\n",
    "    print(match)"
   ]
  },
  {
   "cell_type": "markdown",
   "id": "125f89b8",
   "metadata": {},
   "source": [
    "> Here we got all the names that start with Mr <br>\n",
    "- `\\.?` denotes that dot is optional\n",
    "- `\\s` denotes there is a space after the Mr or Mr.\n",
    "- `[A-Z]` denotes that after the space we expect an uppercase letter.\n",
    "- `\\w*` denotes that after the uppercase letter we can have any number (0 or more) of word characters."
   ]
  },
  {
   "cell_type": "code",
   "execution_count": 28,
   "id": "da967187",
   "metadata": {},
   "outputs": [
    {
     "name": "stdout",
     "output_type": "stream",
     "text": [
      "<_sre.SRE_Match object; span=(216, 227), match='Mr. Schafer'>\n",
      "<_sre.SRE_Match object; span=(228, 236), match='Mr Smith'>\n",
      "<_sre.SRE_Match object; span=(237, 245), match='Ms Davis'>\n",
      "<_sre.SRE_Match object; span=(246, 259), match='Mrs. Robinson'>\n",
      "<_sre.SRE_Match object; span=(260, 265), match='Mr. T'>\n"
     ]
    }
   ],
   "source": [
    "# lets get all the names \n",
    "sentence = \"\"\"\n",
    "Mr. Schafer\n",
    "Mr Smith\n",
    "Ms Davis\n",
    "Mrs. Robinson\n",
    "Mr. T\n",
    "\"\"\"\n",
    "# here we can see that few Mr have dot at the end and few don't\n",
    "pattern_names = re.compile(r'(Mr|Ms|Mrs)\\.?\\s[A-Z]\\w*')\n",
    "matches = pattern_names.finditer(text_to_search)\n",
    "for match in matches:\n",
    "    print(match)"
   ]
  },
  {
   "cell_type": "markdown",
   "id": "96dc98d6",
   "metadata": {},
   "source": [
    "- `(Mr|Ms|Mrs)` denotes a group of characters, where pipe \\| denotes **or**. Thus the designation must start with Mr or Ms or Mrs.\n",
    "- rest is same as above."
   ]
  },
  {
   "cell_type": "code",
   "execution_count": 34,
   "id": "621b45fa",
   "metadata": {},
   "outputs": [
    {
     "name": "stdout",
     "output_type": "stream",
     "text": [
      "<_sre.SRE_Match object; span=(1, 24), match='CoreyMSchafer@gmail.com'>\n",
      "<_sre.SRE_Match object; span=(25, 53), match='corey.schafer@university.edu'>\n",
      "<_sre.SRE_Match object; span=(54, 83), match='corey-321-schafer@my-work.net'>\n"
     ]
    }
   ],
   "source": [
    "# now lets write a pattern for detecting emails\n",
    "sentence = \"\"\"\n",
    "CoreyMSchafer@gmail.com\n",
    "corey.schafer@university.edu\n",
    "corey-321-schafer@my-work.net\n",
    "\"\"\"\n",
    "pattern_email = re.compile(r'[a-zA-Z.0-9-]+@[a-zA-Z-]+\\.(com|edu|net)')\n",
    "matches = pattern_email.finditer(sentence)\n",
    "for match in matches:\n",
    "    print(match)"
   ]
  },
  {
   "cell_type": "markdown",
   "id": "48e98e47",
   "metadata": {},
   "source": [
    "- `[a-zA-Z.0-9-]+` the email can have atleast one of - lowercase letters or uppercase letters or digits or dot or dash\n",
    "- `@` after this we look for @\n",
    "- `[a-zA-Z-]+` after the @, we can atleast one lowercase letter or uppercase letter or dash\n",
    "- `.` then we look for a dot\n",
    "- `(com|edu|net)` after dot we can have com or edu or net"
   ]
  },
  {
   "cell_type": "markdown",
   "id": "48d664be",
   "metadata": {},
   "source": [
    "### decode other peoples regex\n",
    "- patter is - `[a-zA-Z0-9_.+-]+@[a-zA-Z0-9-]+\\.[a-zA-Z0-9-.]+`\n",
    "\n",
    "- here, `[a-zA-Z0-9_.+-]+` denotes that it should have lowercase or uppercase letters or digits or underscore or dot or plus or dash\n",
    "\n",
    "- then we match `@`\n",
    "\n",
    "- then `[a-zA-Z0-9-]+` denotes that it should match lower or uppercase letters or digits or dash.\n",
    "\n",
    "- then we look for dot `\\.`\n",
    "\n",
    "- then `[a-zA-Z0-9-.]+` denotes that it should have lower or uppercase letters or digits or dash or dot."
   ]
  },
  {
   "cell_type": "code",
   "execution_count": 35,
   "id": "68c0da01",
   "metadata": {},
   "outputs": [
    {
     "name": "stdout",
     "output_type": "stream",
     "text": [
      "<_sre.SRE_Match object; span=(1, 23), match='https://www.google.com'>\n",
      "<_sre.SRE_Match object; span=(24, 42), match='http://coreyms.com'>\n",
      "<_sre.SRE_Match object; span=(43, 62), match='https://youtube.com'>\n",
      "<_sre.SRE_Match object; span=(63, 83), match='https://www.nasa.gov'>\n"
     ]
    }
   ],
   "source": [
    "# now lets write a pattern that recognizes a URL\n",
    "\n",
    "sentence = '''\n",
    "https://www.google.com\n",
    "http://coreyms.com\n",
    "https://youtube.com\n",
    "https://www.nasa.gov\n",
    "'''\n",
    "pattern_email = re.compile(r'https?://(www.)?\\w+\\.\\w+')\n",
    "matches = pattern_email.finditer(sentence)\n",
    "for match in matches:\n",
    "    print(match)"
   ]
  },
  {
   "cell_type": "markdown",
   "id": "fac5cd58",
   "metadata": {},
   "source": [
    "- `http` we start the match of it starts by http\n",
    "- `s?` we need zero or more 's'\n",
    "- `://` we match this after http or https\n",
    "- `(www.)?` since 'www.' is optional we put it inside a group so the '?' is applicable on the whole 'www.'\n",
    "- `\\w+` here we denote that the name of the website can have any word character 1 or more times.\n",
    "- `\\.` after the name we want a dot.\n",
    "- `\\w+` for top level domain name."
   ]
  },
  {
   "cell_type": "code",
   "execution_count": 43,
   "id": "77ac4d89",
   "metadata": {},
   "outputs": [
    {
     "name": "stdout",
     "output_type": "stream",
     "text": [
      "the entire url\n",
      "https://www.google.com\n",
      "the optional part \"www.\"\n",
      "www.\n",
      "the name of the website\n",
      "google\n",
      "the top level domain name of the website\n",
      ".com\n",
      "\n",
      "\n",
      "\n",
      "\n",
      "\n",
      "the entire url\n",
      "http://coreyms.com\n",
      "the optional part \"www.\"\n",
      "None\n",
      "the name of the website\n",
      "coreyms\n",
      "the top level domain name of the website\n",
      ".com\n",
      "\n",
      "\n",
      "\n",
      "\n",
      "\n",
      "the entire url\n",
      "https://youtube.com\n",
      "the optional part \"www.\"\n",
      "None\n",
      "the name of the website\n",
      "youtube\n",
      "the top level domain name of the website\n",
      ".com\n",
      "\n",
      "\n",
      "\n",
      "\n",
      "\n",
      "the entire url\n",
      "https://www.nasa.gov\n",
      "the optional part \"www.\"\n",
      "www.\n",
      "the name of the website\n",
      "nasa\n",
      "the top level domain name of the website\n",
      ".gov\n",
      "\n",
      "\n",
      "\n",
      "\n",
      "\n"
     ]
    }
   ],
   "source": [
    "# now lets capture some info from the url\n",
    "\n",
    "sentence = '''\n",
    "https://www.google.com\n",
    "http://coreyms.com\n",
    "https://youtube.com\n",
    "https://www.nasa.gov\n",
    "'''\n",
    "pattern_url = re.compile(r'https?://(www\\.)?(\\w+)(\\.\\w+)')\n",
    "matches = pattern_url.finditer(sentence)\n",
    "\n",
    "for match in matches:\n",
    "    print('the entire url')\n",
    "    print(match.group(0))\n",
    "    \n",
    "    print('the optional part \"www.\"')\n",
    "    print(match.group(1))\n",
    "    \n",
    "    print('the name of the website')\n",
    "    print(match.group(2))\n",
    "    \n",
    "    print('the top level domain name of the website')\n",
    "    print(match.group(3))\n",
    "    \n",
    "    print('\\n\\n\\n\\n')"
   ]
  },
  {
   "cell_type": "markdown",
   "id": "ec6af830",
   "metadata": {},
   "source": [
    "> Here we try to access parts of the pattern we matched to get out the relevant information from it.<br><br>\n",
    "To do this we make groups of the parts we want from the pattern so we added the domain name and top level domain name(.com/.edu) to the group.<br><br>\n",
    "To access these part we use `.group()` function where we send the index number of group.<br><br>\n",
    "0 is for the entire pattern<br>\n",
    "1 is for the first group (optional www.)<br><br>\n",
    "2 is for the second group (domain name of the - group)<br><br>\n",
    "3 is for the third group (top level domain name or the group)<br>"
   ]
  },
  {
   "cell_type": "markdown",
   "id": "147d8c41",
   "metadata": {},
   "source": [
    "### Sub method"
   ]
  },
  {
   "cell_type": "code",
   "execution_count": 44,
   "id": "78ec7ef0",
   "metadata": {},
   "outputs": [
    {
     "name": "stdout",
     "output_type": "stream",
     "text": [
      "\n",
      "google.com\n",
      "coreyms.com\n",
      "youtube.com\n",
      "nasa.gov\n",
      "\n"
     ]
    }
   ],
   "source": [
    "# now lets substitute the urls we found using the pattern into \n",
    "# just the name of the website and top level domain name.\n",
    "# eg. https://www,google.com to google.com\n",
    "\n",
    "sentence = '''\n",
    "https://www.google.com\n",
    "http://coreyms.com\n",
    "https://youtube.com\n",
    "https://www.nasa.gov\n",
    "'''\n",
    "pattern_url = re.compile(r'https?://(www\\.)?(\\w+)(\\.\\w+)')\n",
    "subbed_url = pattern_url.sub(r'\\2\\3',sentence)\n",
    "print(subbed_url)"
   ]
  },
  {
   "cell_type": "markdown",
   "id": "411071c6",
   "metadata": {},
   "source": [
    "> Here we use the `sub()` function of regex where we substitute each pattern we find from the sentence with the 2nd and the 3rd group of the pattern itself.\n",
    "\n",
    "> First parameter of sub is for what we want to substitute with.\n",
    "\n",
    "> Second parameter is for the string in which we want to find that pattern in."
   ]
  },
  {
   "cell_type": "markdown",
   "id": "aa0935c9",
   "metadata": {},
   "source": [
    "### Findall Method"
   ]
  },
  {
   "cell_type": "code",
   "execution_count": 45,
   "id": "3a4b42d3",
   "metadata": {},
   "outputs": [
    {
     "name": "stdout",
     "output_type": "stream",
     "text": [
      "Mr\n",
      "Mr\n",
      "Ms\n",
      "Mrs\n",
      "Mr\n"
     ]
    }
   ],
   "source": [
    "# lets try findall() method\n",
    "# findall only matches the groups from the pattern\n",
    "sentence = \"\"\"\n",
    "Mr. Schafer\n",
    "Mr Smith\n",
    "Ms Davis\n",
    "Mrs. Robinson\n",
    "Mr. T\n",
    "\"\"\"\n",
    "# here we can see that few Mr have dot at the end and few don't\n",
    "pattern_names = re.compile(r'(Mr|Ms|Mrs)\\.?\\s[A-Z]\\w*')\n",
    "matches = pattern_names.findall(text_to_search)\n",
    "for match in matches:\n",
    "    print(match)"
   ]
  },
  {
   "cell_type": "markdown",
   "id": "56c50588",
   "metadata": {},
   "source": [
    "### Note\n",
    "- If there are more than one groups, findall returns a tuple which has each group."
   ]
  },
  {
   "cell_type": "code",
   "execution_count": 46,
   "id": "5a65a4f9",
   "metadata": {},
   "outputs": [
    {
     "name": "stdout",
     "output_type": "stream",
     "text": [
      "('www.', 'google', '.com')\n",
      "('', 'coreyms', '.com')\n",
      "('', 'youtube', '.com')\n",
      "('www.', 'nasa', '.gov')\n"
     ]
    }
   ],
   "source": [
    "sentence = '''\n",
    "https://www.google.com\n",
    "http://coreyms.com\n",
    "https://youtube.com\n",
    "https://www.nasa.gov\n",
    "'''\n",
    "pattern_url = re.compile(r'https?://(www\\.)?(\\w+)(\\.\\w+)')\n",
    "matches = pattern_url.findall(sentence)\n",
    "for match in matches:\n",
    "    print(match)"
   ]
  },
  {
   "cell_type": "markdown",
   "id": "4a905cba",
   "metadata": {},
   "source": [
    "#### Note\n",
    "- If the pattern has no group, findall returns the whole pattern."
   ]
  },
  {
   "cell_type": "code",
   "execution_count": 49,
   "id": "12c10fc8",
   "metadata": {},
   "outputs": [
    {
     "name": "stdout",
     "output_type": "stream",
     "text": [
      "123-123-1234\n",
      "354.354.1234\n",
      "256-433.7413\n",
      "134-356.4354\n",
      "344.541-3651\n"
     ]
    }
   ],
   "source": [
    "sentence = \"\"\"123-123-1234\n",
    "354.354.1234\n",
    "256-433.7413\n",
    "134-356.4354\n",
    "344.541-3651\"\"\"\n",
    "\n",
    "pattern_ph_no = re.compile(r'\\d{3}[-.]\\d{3}[-.]\\d{4}')\n",
    "matches = pattern_ph_no.findall(sentence)\n",
    "for match in matches:\n",
    "    print(match)"
   ]
  },
  {
   "cell_type": "markdown",
   "id": "36d07d0c",
   "metadata": {},
   "source": [
    "### Match Method"
   ]
  },
  {
   "cell_type": "code",
   "execution_count": 50,
   "id": "93cf786c",
   "metadata": {},
   "outputs": [
    {
     "name": "stdout",
     "output_type": "stream",
     "text": [
      "<_sre.SRE_Match object; span=(0, 5), match='Start'>\n"
     ]
    }
   ],
   "source": [
    "sentence = \"Start a sentence and then bring it to an end\"\n",
    "pattern = re.compile(r'Start')\n",
    "match = pattern.match(sentence)\n",
    "print(match)"
   ]
  },
  {
   "cell_type": "code",
   "execution_count": 51,
   "id": "963b0a91",
   "metadata": {},
   "outputs": [
    {
     "name": "stdout",
     "output_type": "stream",
     "text": [
      "None\n"
     ]
    }
   ],
   "source": [
    "sentence = \"Start a sentence and then bring it to an end\"\n",
    "pattern = re.compile(r'then')\n",
    "match = pattern.match(sentence)\n",
    "print(match)"
   ]
  },
  {
   "cell_type": "markdown",
   "id": "19c6fc10",
   "metadata": {},
   "source": [
    "> Thus `match` method only returns the matched part of the string.\n",
    "\n",
    "> `match` method only matches the start of the string, of start of the string does not match, the `method` return None."
   ]
  },
  {
   "cell_type": "markdown",
   "id": "bee8f102",
   "metadata": {},
   "source": [
    "### Search Method"
   ]
  },
  {
   "cell_type": "code",
   "execution_count": 52,
   "id": "1efd505b",
   "metadata": {},
   "outputs": [
    {
     "name": "stdout",
     "output_type": "stream",
     "text": [
      "<_sre.SRE_Match object; span=(0, 5), match='Start'>\n"
     ]
    }
   ],
   "source": [
    "sentence = \"Start a sentence and then bring it to an end\"\n",
    "pattern = re.compile(r'Start')\n",
    "match = pattern.search(sentence)\n",
    "print(match)"
   ]
  },
  {
   "cell_type": "code",
   "execution_count": 53,
   "id": "84219fcf",
   "metadata": {},
   "outputs": [
    {
     "name": "stdout",
     "output_type": "stream",
     "text": [
      "<_sre.SRE_Match object; span=(21, 25), match='then'>\n"
     ]
    }
   ],
   "source": [
    "sentence = \"Start a sentence and then bring it to an end\"\n",
    "pattern = re.compile(r'then')\n",
    "match = pattern.search(sentence)\n",
    "print(match)"
   ]
  },
  {
   "cell_type": "code",
   "execution_count": 54,
   "id": "a0695603",
   "metadata": {},
   "outputs": [
    {
     "name": "stdout",
     "output_type": "stream",
     "text": [
      "<_sre.SRE_Match object; span=(17, 21), match='then'>\n"
     ]
    }
   ],
   "source": [
    "sentence = \"Start a sentence then and then bring then it to an end\"\n",
    "pattern = re.compile(r'then')\n",
    "match = pattern.search(sentence)\n",
    "print(match)"
   ]
  },
  {
   "cell_type": "markdown",
   "id": "0184eaa8",
   "metadata": {},
   "source": [
    "> The `search` method return only the first match from the string\n",
    "\n",
    "> It returns None if there are no matches"
   ]
  },
  {
   "cell_type": "markdown",
   "id": "98a52814",
   "metadata": {},
   "source": [
    "### Flags in Regular Expression"
   ]
  },
  {
   "cell_type": "code",
   "execution_count": 55,
   "id": "51aebd13",
   "metadata": {},
   "outputs": [
    {
     "name": "stdout",
     "output_type": "stream",
     "text": [
      "<_sre.SRE_Match object; span=(0, 5), match='Start'>\n"
     ]
    }
   ],
   "source": [
    "# we want to match if the string has the word 'start'\n",
    "# but any of the character can be lowercase or uppercase still we want to match it.\n",
    "# from what we have learned we would do something like this\n",
    "# [Ss][Tt][Aa][Rr][Tt]\n",
    "# this is a pain to write for bigger words or patterns\n",
    "# here we use flag - re.IGNORECASE or re.I for short\n",
    "\n",
    "sentence = \"Start of the sentence\"\n",
    "\n",
    "pattern = re.compile(r'start',re.IGNORECASE)\n",
    "match = pattern.search(sentence)\n",
    "print(match)"
   ]
  },
  {
   "cell_type": "code",
   "execution_count": 58,
   "id": "7696708c",
   "metadata": {},
   "outputs": [
    {
     "name": "stdout",
     "output_type": "stream",
     "text": [
      "<_sre.SRE_Match object; span=(11, 18), match='AmaZiNG'>\n"
     ]
    }
   ],
   "source": [
    "sentence = \"this is so AmaZiNG\"\n",
    "\n",
    "pattern = re.compile(r'amazing',re.IGNORECASE)\n",
    "match = pattern.search(sentence)\n",
    "print(match)"
   ]
  },
  {
   "cell_type": "code",
   "execution_count": null,
   "id": "ad0c37d0",
   "metadata": {},
   "outputs": [],
   "source": []
  }
 ],
 "metadata": {
  "kernelspec": {
   "display_name": "Python 3",
   "language": "python",
   "name": "python3"
  },
  "language_info": {
   "codemirror_mode": {
    "name": "ipython",
    "version": 3
   },
   "file_extension": ".py",
   "mimetype": "text/x-python",
   "name": "python",
   "nbconvert_exporter": "python",
   "pygments_lexer": "ipython3",
   "version": "3.6.13"
  }
 },
 "nbformat": 4,
 "nbformat_minor": 5
}
